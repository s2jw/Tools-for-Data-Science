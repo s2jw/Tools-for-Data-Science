{
  "metadata": {
    "kernelspec": {
      "name": "python",
      "display_name": "Python (Pyodide)",
      "language": "python"
    },
    "language_info": {
      "codemirror_mode": {
        "name": "python",
        "version": 3
      },
      "file_extension": ".py",
      "mimetype": "text/x-python",
      "name": "python",
      "nbconvert_exporter": "python",
      "pygments_lexer": "ipython3",
      "version": "3.8"
    }
  },
  "nbformat_minor": 4,
  "nbformat": 4,
  "cells": [
    {
      "cell_type": "markdown",
      "source": "# My Data Science Project",
      "metadata": {}
    },
    {
      "cell_type": "markdown",
      "source": "## Introduction\n\nIn this project, I will explore various data science tools and techniques using Jupyterlite Notebook.",
      "metadata": {}
    },
    {
      "cell_type": "markdown",
      "source": "### Data Science Languages\n\n- Python\n- R\n- SQL\n- Julia\n- Scala",
      "metadata": {}
    },
    {
      "cell_type": "markdown",
      "source": "### Data Science Libraries\n\n- Pandas\n- NumPy\n- Matplotlib\n- Scikit-learn\n- TensorFlow\n- Keras",
      "metadata": {}
    },
    {
      "cell_type": "markdown",
      "source": "### Data Science Tools\n\n| Tool           | Description                            |\n|----------------|----------------------------------------|\n| Jupyter        | Open-source web application for data science. |\n| RStudio        | IDE for R programming.                |\n| Tableau        | Data visualization software.           |\n| Apache Spark   | Big data processing framework.         |\n| Excel          | Spreadsheet software for data analysis.|",
      "metadata": {}
    },
    {
      "cell_type": "markdown",
      "source": "## Arithmetic Expression Examples\n\nIn this section, we will demonstrate basic arithmetic operations such as addition, subtraction, multiplication, and division using code examples.",
      "metadata": {}
    },
    {
      "cell_type": "code",
      "source": "# Multiplication and Addition\na = 2\nb = 3\n\n# Multiply\nresult_mul = a * b\n\n# Add\nresult_add = a + b\n\nresult_mul, result_add",
      "metadata": {
        "trusted": true
      },
      "outputs": [
        {
          "execution_count": 2,
          "output_type": "execute_result",
          "data": {
            "text/plain": "(6, 5)"
          },
          "metadata": {}
        }
      ],
      "execution_count": 2
    },
    {
      "cell_type": "code",
      "source": "# Convert minutes to hours\ndef convert_m_to_h(minutes):\n    hours = minutes / 60\n    return hours\n\n# ex\nm = 120\nconverted_h = convert_m_to_h(m)\nconverted_h",
      "metadata": {
        "trusted": true
      },
      "outputs": [
        {
          "execution_count": 3,
          "output_type": "execute_result",
          "data": {
            "text/plain": "2.0"
          },
          "metadata": {}
        }
      ],
      "execution_count": 3
    },
    {
      "cell_type": "markdown",
      "source": "## Objectives\n\n- To learn about different data science languages.\n- To explore various data science libraries.\n- To understand data science tools.\n- To demonstrate basic arithmetic operations.\n- To convert minutes to hours using Python.",
      "metadata": {}
    },
    {
      "cell_type": "markdown",
      "source": "## Author\n\nJeongwon Choi",
      "metadata": {}
    },
    {
      "cell_type": "code",
      "source": "",
      "metadata": {
        "trusted": true
      },
      "outputs": [],
      "execution_count": null
    }
  ]
}